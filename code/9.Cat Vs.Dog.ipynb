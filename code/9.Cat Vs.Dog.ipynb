{
 "cells": [
  {
   "cell_type": "markdown",
   "metadata": {},
   "source": [
    "# 猫狗分类问题"
   ]
  },
  {
   "cell_type": "markdown",
   "metadata": {},
   "source": [
    "## 关于实现的问题"
   ]
  },
  {
   "cell_type": "markdown",
   "metadata": {},
   "source": [
    "按照pytorch实现的方式，之前有提到关于pytorch以及相关的视觉包的使用，现在综合之前写过的相关的代码进行实现  \n",
    "  \n",
    "一般需要实现下面几个东西：\n",
    "1. 模型定义\n",
    "2. 数据处理和预加载\n",
    "3. 训练模型\n",
    "4. 训练过程的可视化\n",
    "5. 测试"
   ]
  },
  {
   "cell_type": "code",
   "execution_count": 20,
   "metadata": {},
   "outputs": [],
   "source": [
    "import os\n",
    "from PIL import Image\n",
    "import torch as t\n",
    "from torch.utils import data\n",
    "import numpy as np\n",
    "from torchvision import transforms as T"
   ]
  },
  {
   "cell_type": "code",
   "execution_count": 13,
   "metadata": {},
   "outputs": [
    {
     "name": "stdout",
     "output_type": "stream",
     "text": [
      "001\n"
     ]
    }
   ],
   "source": [
    "# 这是一个测试，验证下面的方法，这个函数的目的是提取没个文件名的数字，并且按照这个数字进行排序\n",
    "x = 'data/train/001.jpg' \n",
    "key = x.split('.')[-2].split('/')[-1]\n",
    "print(key)"
   ]
  },
  {
   "cell_type": "markdown",
   "metadata": {},
   "source": [
    "# 定义猫狗数据类，获取数据集"
   ]
  },
  {
   "cell_type": "code",
   "execution_count": 16,
   "metadata": {},
   "outputs": [],
   "source": [
    "class DogCat(data.Dataset):\n",
    "    \n",
    "    def __init__(self, root, transforms = None, train = None, test = False):\n",
    "        self.test = test\n",
    "        \n",
    "        #这里得到的imgs所有图像的路径以及文件名，也就是说imgs是一个路径名的列表\n",
    "        imgs = [os.path.join(root, img)for img in os.listdir(root)]\n",
    "        \n",
    "        if self.test:\n",
    "            imgs = sorted(imgs, key = lambda x: int(x.split('.')[-2].split('/')[-1]))\n",
    "        else:\n",
    "            imgs = sorted(imgs, key = lambda x: int(s.split('.')[-2]))\n",
    "        \n",
    "        #查看总共有多少张图片\n",
    "        imgs_num = len(imgs)\n",
    "        \n",
    "        #这个是测试集，直接按照测试集属性进行划分\n",
    "        if self.test:\n",
    "            self.imgs = imgs\n",
    "        #这个是训练集\n",
    "        elif train:\n",
    "            self.imgs = imgs[:int(0.7 * imgs_num)]\n",
    "        #这个是验证集\n",
    "        else:\n",
    "            self.imgs = imgs[int(0.7 * imgs_num):]\n",
    "        \n",
    "        if transforms is None:\n",
    "            #固定写法，添加归一化操作\n",
    "            normalize = T.normalize(mean = [0.485, .456, .406],\n",
    "                                   std = [.229, .224, .225]\n",
    "                                   )\n",
    "        \n",
    "            if self.test or not train:\n",
    "                self.transforms = T.Compose([\n",
    "                    T.Scale(224),\n",
    "                    T.CenterCrop(224),\n",
    "                    T.ToTensor(),\n",
    "                    normalize\n",
    "                ])\n",
    "            \n",
    "            else:\n",
    "                self.transforms = T.Compose([\n",
    "                    T.Scale(256),\n",
    "                    T.RandomSizedCrop(224),\n",
    "                    T.RandomHorizontalFlip(),\n",
    "                    T.ToTensor(),\n",
    "                    normalize\n",
    "                    \n",
    "                ])\n",
    "                \n",
    "    def __getitem__(self, index):\n",
    "        \n",
    "        img_path = self.imgs[index]\n",
    "        #测试集不分配id,也就是说，测试集不给标记，直接给数据的id\n",
    "        if self.test:\n",
    "            label = int(self.imgs[index].split('.')[-2].split('/')[-1])#返回\n",
    "        else:\n",
    "            label = 1 if 'dog' in img_path.split('/'[-1]) else 0 \n",
    "            \n",
    "        data = Image.open(img_path)\n",
    "        data = self.transforms(data)\n",
    "        return data, label\n",
    "    \n",
    "    def __len__(self):\n",
    "        return len(self.imgs)\n",
    "        "
   ]
  },
  {
   "cell_type": "markdown",
   "metadata": {},
   "source": [
    "# 配置文件\n",
    "  \n",
    "这个单元格就看作是一个配置文件"
   ]
  },
  {
   "cell_type": "code",
   "execution_count": 19,
   "metadata": {},
   "outputs": [],
   "source": [
    "\n",
    "train_data_root = '../../data/dogs-vs-cats/train/'\n",
    "test_data_root = '../../data/dogs-vs-cats/test1/'\n",
    "batch_size = 16\n",
    "num_workers = 2"
   ]
  },
  {
   "cell_type": "markdown",
   "metadata": {},
   "source": [
    "# 加载数据集并训练"
   ]
  },
  {
   "cell_type": "code",
   "execution_count": null,
   "metadata": {},
   "outputs": [],
   "source": [
    "train_dataset = DogCat(train_data_root, train= True)\n",
    "\n",
    "trainloader = data.DataLoader(train_dataset, batch_size= batch_size, shuffle= True, num_workers= num_workers)\n",
    "\n",
    "for ii , (data, label) in enumerate(trainloader):\n",
    "    train()\n",
    "    "
   ]
  },
  {
   "cell_type": "markdown",
   "metadata": {},
   "source": [
    "# 模型接口封装"
   ]
  },
  {
   "cell_type": "code",
   "execution_count": 21,
   "metadata": {},
   "outputs": [],
   "source": [
    "class BasicModule(t.nn.Module):\n",
    "    def __init__(self ):\n",
    "        super(BasicModule, self).__init__()\n",
    "        self.module_name = str(type(self))#模型默认的名称\n",
    "        \n",
    "    def load(self, path):\n",
    "        self.load_state_dict(t.load(path))\n",
    "        \n",
    "        \n",
    "    def save(self, name = None):\n",
    "        if name is None:\n",
    "            prefix = self.module_name+'_'\n",
    "            name = time.strftime(prefix + '%m%d_%H:%M:%S.pth')\n",
    "        t.save(self.state_dict(), name)\n",
    "    \n",
    "        return name"
   ]
  },
  {
   "cell_type": "markdown",
   "metadata": {},
   "source": [
    "# 导入其他模型"
   ]
  },
  {
   "cell_type": "code",
   "execution_count": 23,
   "metadata": {},
   "outputs": [],
   "source": [
    "from torchvision.models import AlexNet\n",
    "from torchvision.models import resnet34\n",
    "\n"
   ]
  },
  {
   "cell_type": "markdown",
   "metadata": {},
   "source": [
    "# 工具函数区"
   ]
  },
  {
   "cell_type": "code",
   "execution_count": 25,
   "metadata": {},
   "outputs": [],
   "source": [
    "#coding: utf-8\n",
    "import visdom\n",
    "import time\n",
    "import numpy as np"
   ]
  },
  {
   "cell_type": "code",
   "execution_count": 27,
   "metadata": {},
   "outputs": [],
   "source": [
    "class Visualizer(object):\n",
    "    # visdom 是一个视觉库，包含很多视觉相关的操作\n",
    "    #这个类封装了visdom的基本操作，但是仍然可以通过self.vis.funtion调用原生的visdom的接口\n",
    "    \n",
    "#     self.text('hello visdom')\n",
    "#     self.histogram(t.randn(1000))\n",
    "#     self.line(t.arange(0,10), t.arange(1, 11))\n",
    "    \n",
    "    def __init__(self, env = 'default', **kwargs):\n",
    "        self.vis = visdom.Visdom(env = env, **kwargs)\n",
    "        \n",
    "        self.index= {}\n",
    "        self.log_text = ''\n",
    "    \n",
    "    \n",
    "    def reinit(self, env='default', **kwargs):\n",
    "        self.vis = visdom.Visdom(env = env, **kwargs)\n",
    "        return self\n",
    "    \n",
    "    def plot_many(self, d):\n",
    "        #@params d: dict(name, value) i.e. ('loss', 0.11)\n",
    "        \n",
    "        for k, v in d.items():\n",
    "            self.plot(k, v)\n",
    "            \n",
    "    def img_many(self, d):\n",
    "        for k,v in d.items():\n",
    "            self.img(k, v)\n",
    "        \n",
    "    def plot(self, name, y, **kwargs):\n",
    "        x = self.index.get(name, 0)\n",
    "        \n",
    "        self.vis.line(Y = np.array([y]), X = np.array([x]),win = (name), opt = dict(title = name),\n",
    "                        update = None if x ==0 else 'append',\n",
    "                      **kwargs\n",
    "                     )\n",
    "        self.index[name] = x+1\n",
    "        \n",
    "    def img(self, name, img_, **kwargs):\n",
    "        self .vis.images(img_.cpu().numpy(),\n",
    "                        win = (name),\n",
    "                         opts = dict(title = name),\n",
    "                         **kwargs\n",
    "                        )\n",
    "    def log(self, info, win = 'log_text'):\n",
    "        \n",
    "        self.log_text += ('[{time}]{info}<br>'.fomat(\n",
    "            time = time.strftime('%m%d_%H%M%S'),\n",
    "            info = info\n",
    "        ))\n",
    "        self.vis.text(self.log_text , win)\n",
    "        \n",
    "    def __getattr__(self, name):\n",
    "        \n",
    "        return getattr(self.vis, name)\n",
    "    "
   ]
  },
  {
   "cell_type": "code",
   "execution_count": null,
   "metadata": {},
   "outputs": [],
   "source": []
  }
 ],
 "metadata": {
  "kernelspec": {
   "display_name": "Python 3",
   "language": "python",
   "name": "python3"
  },
  "language_info": {
   "codemirror_mode": {
    "name": "ipython",
    "version": 3
   },
   "file_extension": ".py",
   "mimetype": "text/x-python",
   "name": "python",
   "nbconvert_exporter": "python",
   "pygments_lexer": "ipython3",
   "version": "3.7.0"
  }
 },
 "nbformat": 4,
 "nbformat_minor": 2
}
