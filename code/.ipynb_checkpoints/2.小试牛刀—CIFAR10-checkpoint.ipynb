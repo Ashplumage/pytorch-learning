{
 "cells": [
  {
   "cell_type": "markdown",
   "metadata": {},
   "source": [
    "# 介绍"
   ]
  },
  {
   "cell_type": "markdown",
   "metadata": {},
   "source": [
    "CIFAR-10是一个比较经典的多分类图像问题，之前在CS231n里面也有介绍实现这个任务，下面分为以下几个步骤进行实现\n",
    "\n",
    "1. 使用torchvision来加载CIFAR-10数据集\n",
    "2. 定义网络\n",
    "3. 定义损失函数和优化器\n",
    "4. 训练网络并更新参数\n",
    "5. 测试网络\n"
   ]
  },
  {
   "cell_type": "markdown",
   "metadata": {},
   "source": [
    "## 1、加载CIFAR-10数据集"
   ]
  },
  {
   "cell_type": "code",
   "execution_count": 1,
   "metadata": {},
   "outputs": [],
   "source": [
    "# 利用torch里面自带的torchvision 加载图像方法，加载我们所需要的数据\n",
    "import torch as t\n",
    "import torchvision as tv\n",
    "import torchvision.transforms as transforms\n",
    "from torchvision.transforms import ToPILImage"
   ]
  },
  {
   "cell_type": "code",
   "execution_count": 2,
   "metadata": {},
   "outputs": [],
   "source": [
    "#这个show可以将tensor转换成image,方便可视化\n",
    "show = ToPILImage()"
   ]
  },
  {
   "cell_type": "code",
   "execution_count": 3,
   "metadata": {},
   "outputs": [
    {
     "name": "stdout",
     "output_type": "stream",
     "text": [
      "Files already downloaded and verified\n",
      "Files already downloaded and verified\n"
     ]
    }
   ],
   "source": [
    "#自动下载CIFAR-10数据集\n",
    "transform = transforms.Compose([\n",
    "    transforms.ToTensor(),\n",
    "    #归一化\n",
    "    transforms.Normalize((0.5, 0.5, 0.5),(0.5, 0.5, 0.5)),\n",
    "])\n",
    "\n",
    "trainset = tv.datasets.CIFAR10(\n",
    "                                root = '../../data/',\n",
    "                                train = True,\n",
    "                                download = True,\n",
    "                                transform = transform\n",
    "                              )\n",
    "trainLoader = t.utils.data.DataLoader(trainset, batch_size = 4,shuffle = True,num_workers = 2)\n",
    "\n",
    "testset = tv.datasets.CIFAR10(root = '../../data/',train = False, download = True, transform = transform)\n",
    "\n",
    "testLoader = t.utils.data.DataLoader(testset, batch_size=4, shuffle= True, num_workers= 2)\n",
    "\n",
    "#预先定义每个类所属的类别的英文名\n",
    "classes = ('plane','car', 'bird', 'cat', 'deer', 'dog', 'frog', 'horse', 'ship', 'truck')\n"
   ]
  },
  {
   "cell_type": "markdown",
   "metadata": {},
   "source": [
    "### 可视化显示数据集"
   ]
  },
  {
   "cell_type": "code",
   "execution_count": 4,
   "metadata": {},
   "outputs": [
    {
     "name": "stdout",
     "output_type": "stream",
     "text": [
      "ship\n"
     ]
    },
    {
     "data": {
      "image/png": "[encoded data removed]",
      "text/plain": [
       "<PIL.Image.Image image mode=RGB size=100x100 at 0x1FEB06CC710>"
      ]
     },
     "execution_count": 4,
     "metadata": {},
     "output_type": "execute_result"
    }
   ],
   "source": [
    "#提取出一张图片并查看这张图片所属的类别\n",
    "(data, label) = trainset[100]\n",
    "print(classes[label])\n",
    "\n",
    "#采用图片查看器，show，重新对图片进行大小整合\n",
    "show((data + 1) / 2 ).resize((100,100))"
   ]
  },
  {
   "cell_type": "markdown",
   "metadata": {},
   "source": [
    "### trainLoader是一个可以迭代的对象，它将数据返回的数据样本拼成一个Batch，提供一系列的操作，dataLoader迭代一次遍历所有数据"
   ]
  },
  {
   "cell_type": "code",
   "execution_count": 5,
   "metadata": {},
   "outputs": [
    {
     "name": "stdout",
     "output_type": "stream",
     "text": [
      "       deer        bird        bird       truck\n"
     ]
    },
    {
     "data": {
      "image/png": "[encoded data removed]",
      "text/plain": [
       "<PIL.Image.Image image mode=RGB size=400x100 at 0x1FEADE51FD0>"
      ]
     },
     "execution_count": 5,
     "metadata": {},
     "output_type": "execute_result"
    }
   ],
   "source": [
    "# 获取一个迭代器\n",
    "dataiter = iter(trainLoader)\n",
    "\n",
    "#获取第一个batch中的图像和标签\n",
    "images, labels = dataiter.next()\n",
    "\n",
    "# 这里控制标签的格式进行输出，11s表示每个标签之间间隔11个空格\n",
    "print(' '.join('%11s'%classes[labels[j]]for j in range(4)))\n",
    "\n",
    "# 利用可视化显示器进行图像显示，并将四张图像放在一个网格中\n",
    "show(tv.utils.make_grid((images + 1) / 2)).resize((400,100))"
   ]
  },
  {
   "cell_type": "markdown",
   "metadata": {},
   "source": [
    "## 2、定义网络"
   ]
  },
  {
   "cell_type": "code",
   "execution_count": 6,
   "metadata": {},
   "outputs": [],
   "source": [
    "import torch.nn as nn\n",
    "import torch.nn.functional as F"
   ]
  },
  {
   "cell_type": "code",
   "execution_count": 7,
   "metadata": {},
   "outputs": [
    {
     "name": "stdout",
     "output_type": "stream",
     "text": [
      "Net(\n",
      "  (conv1): Conv2d(3, 6, kernel_size=(5, 5), stride=(1, 1))\n",
      "  (conv2): Conv2d(6, 16, kernel_size=(5, 5), stride=(1, 1))\n",
      "  (fc1): Linear(in_features=400, out_features=120, bias=True)\n",
      "  (fc2): Linear(in_features=120, out_features=84, bias=True)\n",
      "  (fc3): Linear(in_features=84, out_features=10, bias=True)\n",
      ")\n"
     ]
    }
   ],
   "source": [
    "#搭建一个简单的神经网络\n",
    "class Net(nn.Module):\n",
    "    def __init__(self):\n",
    "        super(Net,self).__init__()\n",
    "        \n",
    "        #定义卷积层，这里的参数和keras里面的参数不一致，3表示输入通道，6表示输出通道，5表示5*5的卷积核\n",
    "        self.conv1 = nn.Conv2d(3,6,5)\n",
    "        self.conv2 = nn.Conv2d(6,16,5)\n",
    "        \n",
    "        #定义全连接层，16*5*5，将前面的卷积层得到的图像进行拉平\n",
    "        self.fc1 = nn.Linear(16*5*5, 120)\n",
    "        self.fc2 = nn.Linear(120,84)\n",
    "        self.fc3 = nn.Linear(84,10)\n",
    "        \n",
    "    def forward(self ,x):\n",
    "        #第一次计算，卷积+激活函数\n",
    "        x = F.max_pool2d(F.relu(self.conv1(x)),(2,2))\n",
    "        x = F.max_pool2d(F.relu(self.conv2(x)),2)\n",
    "        \n",
    "        #全连接层\n",
    "        x = x.view(x.size()[0],-1)\n",
    "        x = F.relu(self.fc1(x))\n",
    "        x = F.relu(self.fc2(x))\n",
    "        x = self.fc3(x)\n",
    "        return x\n",
    "\n",
    "net = Net()\n",
    "print(net)"
   ]
  },
  {
   "cell_type": "markdown",
   "metadata": {},
   "source": [
    "## 3、定义损失函数和优化器"
   ]
  },
  {
   "cell_type": "code",
   "execution_count": 8,
   "metadata": {},
   "outputs": [],
   "source": [
    "from torch import optim"
   ]
  },
  {
   "cell_type": "markdown",
   "metadata": {},
   "source": [
    "### 和之前一样定义损失函数和优化器"
   ]
  },
  {
   "cell_type": "code",
   "execution_count": 9,
   "metadata": {},
   "outputs": [],
   "source": [
    "crition = nn.CrossEntropyLoss()\n",
    "optimizer = optim.SGD(net.parameters(),lr = 0.01,momentum = 0.9)"
   ]
  },
  {
   "cell_type": "markdown",
   "metadata": {},
   "source": [
    "## 4、训练网络并更新参数"
   ]
  },
  {
   "cell_type": "code",
   "execution_count": 10,
   "metadata": {},
   "outputs": [],
   "source": [
    "#需要预先导入Variable\n",
    "from torch.autograd import Variable"
   ]
  },
  {
   "cell_type": "code",
   "execution_count": null,
   "metadata": {},
   "outputs": [
    {
     "name": "stdout",
     "output_type": "stream",
     "text": [
      "[1, 1] loss :0.012\n"
     ]
    }
   ],
   "source": [
    "flag = t.cuda.is_available()\n",
    "flag = False\n",
    "\n",
    "if flag:\n",
    "    print('电脑支持cuda')\n",
    "    net.cuda()\n",
    "    \n",
    "    for epoch in range(2):\n",
    "        running_loss = 0.0\n",
    "\n",
    "        for i ,data in enumerate(trainLoader, 0):\n",
    "            #输入数据\n",
    "            inputs, labels = data\n",
    "\n",
    "            inputs, labels = inputs.cuda(), labels.cuda()\n",
    "            #梯度置零\n",
    "            optimizer.zero_grad()\n",
    "\n",
    "            #前向传播\n",
    "            outputs = net(Variable(inputs))\n",
    "            #反向传播\n",
    "            loss = crition(outputs, Variable(labels))\n",
    "            loss.backward()\n",
    "            optimizer.step()\n",
    "\n",
    "            #对损失值进行累加\n",
    "            running_loss += loss.item()\n",
    "            #打印训练log信息\n",
    "            if i / 2 == 0 :\n",
    "                print('[%d, %d] loss :%.3f' %(epoch + 1, i+1, running_loss /200))\n",
    "                running_loss = 0.0\n",
    "\n",
    "        print('finish training!')\n",
    "\n",
    "else:\n",
    "     for epoch in range(2):\n",
    "        running_loss = 0.0\n",
    "\n",
    "        for i ,data in enumerate(trainLoader, 0):\n",
    "            #输入数据\n",
    "            inputs, labels = data\n",
    "\n",
    "            inputs, labels = Variable(inputs), Variable(labels)\n",
    "            #梯度置零\n",
    "            optimizer.zero_grad()\n",
    "\n",
    "            #前向传播\n",
    "            outputs = net(inputs)\n",
    "            #反向传播\n",
    "            loss = crition(outputs, labels)\n",
    "            loss.backward()\n",
    "            optimizer.step()\n",
    "\n",
    "            #对损失值进行累加\n",
    "            running_loss += loss.item()\n",
    "            #打印训练log信息\n",
    "            if i / 2 == 0 :\n",
    "                print('[%d, %d] loss :%.3f' %(epoch + 1, i+1, running_loss /200))\n",
    "                running_loss = 0.0\n",
    "\n",
    "        print('finish training!')\n"
   ]
  },
  {
   "cell_type": "markdown",
   "metadata": {},
   "source": [
    "## 5、测试网络"
   ]
  },
  {
   "cell_type": "code",
   "execution_count": null,
   "metadata": {},
   "outputs": [],
   "source": [
    "# 用测试数据检验网络\n",
    "dataiter = iter(testLoader)\n",
    "images, labels = dataiter.next()\n",
    "print ('实际的Label：',' '.join('%08s' % classes[labels[j]]for i in range(4)))\n",
    "show(tv.utils.mark_grid(images / 2 - 0.5)).resize((400,100))\n"
   ]
  },
  {
   "cell_type": "code",
   "execution_count": null,
   "metadata": {},
   "outputs": [],
   "source": [
    "# 利用网络计算目标图像各个类别得到的预测分数\n",
    "outputs = net(Variable(images))\n",
    "\n",
    "_, predicted = t.max(outputs.data, 1)\n",
    "print ('预测的Label：',' '.join('%08s' % classes[predicted[j]]for i in range(4)))"
   ]
  }
 ],
 "metadata": {
  "kernelspec": {
   "display_name": "Python 3",
   "language": "python",
   "name": "python3"
  },
  "language_info": {
   "codemirror_mode": {
    "name": "ipython",
    "version": 3
   },
   "file_extension": ".py",
   "mimetype": "text/x-python",
   "name": "python",
   "nbconvert_exporter": "python",
   "pygments_lexer": "ipython3",
   "version": "3.7.0"
  }
 },
 "nbformat": 4,
 "nbformat_minor": 2
}
